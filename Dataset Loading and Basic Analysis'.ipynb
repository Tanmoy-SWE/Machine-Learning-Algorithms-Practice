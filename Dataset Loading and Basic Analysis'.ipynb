{
  "nbformat": 4,
  "nbformat_minor": 0,
  "metadata": {
    "colab": {
      "name": "Lab-1.ipynb",
      "provenance": [],
      "collapsed_sections": []
    },
    "kernelspec": {
      "name": "python3",
      "display_name": "Python 3"
    },
    "language_info": {
      "name": "python"
    }
  },
  "cells": [
    {
      "cell_type": "code",
      "execution_count": 17,
      "metadata": {
        "id": "5dj5oJFkWqK-"
      },
      "outputs": [],
      "source": [
        "import numpy as np\n",
        "import random\n"
      ]
    },
    {
      "cell_type": "code",
      "source": [
        "newArr = np.random.randint(0,10,10)\n",
        "print(newArr)"
      ],
      "metadata": {
        "colab": {
          "base_uri": "https://localhost:8080/"
        },
        "id": "G56mlJYpXegU",
        "outputId": "3e550c8c-e60c-46a3-f8fc-6899e3f5ed85"
      },
      "execution_count": 26,
      "outputs": [
        {
          "output_type": "stream",
          "name": "stdout",
          "text": [
            "[8 2 4 9 2 8 7 2 5 3]\n"
          ]
        }
      ]
    },
    {
      "cell_type": "markdown",
      "source": [
        "arr = np.array([[4, 23, 98, 7, 6, 98],\n",
        "         [38, 54, 6, 18, 10, 4],\n",
        "         [5, 48, 4, 56, 5, 6],\n",
        "         [3, 54, 6, 18, 10, 4],\n",
        "         [48, 54, 6, 18, 10, 4],\n",
        "         [18, 54, 6, 18, 10, 4],])\n"
      ],
      "metadata": {
        "id": "rc42wF_zX4cp"
      }
    },
    {
      "cell_type": "code",
      "source": [
        "arr = np.array([[4, 23, 98, 7, 6, 98],\n",
        "         [38, 54, 6, 18, 10, 4],\n",
        "         [5, 48, 4, 56, 5, 6],\n",
        "         [3, 76, 6, 18, 10, 4],\n",
        "         [48, 54, 63, 19, 13, 4],\n",
        "         [18, 14, 62, 16, 90, 44],\n",
        "         [18, 54, 61, 11, 98, 14],])\n",
        "\n",
        "print(np.shape(arr))"
      ],
      "metadata": {
        "colab": {
          "base_uri": "https://localhost:8080/"
        },
        "id": "2sfnEseIYaq6",
        "outputId": "af7974eb-5beb-4725-c107-03c5d862a09d"
      },
      "execution_count": 7,
      "outputs": [
        {
          "output_type": "stream",
          "name": "stdout",
          "text": [
            "(7, 6)\n"
          ]
        }
      ]
    },
    {
      "cell_type": "markdown",
      "source": [
        "Task-2"
      ],
      "metadata": {
        "id": "JjrjI0P1ZrBC"
      }
    },
    {
      "cell_type": "code",
      "source": [
        "arr = arr.reshape((3, 14))\n",
        "print(arr)"
      ],
      "metadata": {
        "colab": {
          "base_uri": "https://localhost:8080/"
        },
        "id": "tPeLCaHbZOVN",
        "outputId": "654d92e5-0d81-4a0b-97c7-d28faf1860cf"
      },
      "execution_count": 9,
      "outputs": [
        {
          "output_type": "stream",
          "name": "stdout",
          "text": [
            "[[ 4 23 98  7  6 98 38 54  6 18 10  4  5 48]\n",
            " [ 4 56  5  6  3 76  6 18 10  4 48 54 63 19]\n",
            " [13  4 18 14 62 16 90 44 18 54 61 11 98 14]]\n"
          ]
        }
      ]
    },
    {
      "cell_type": "markdown",
      "source": [
        "Task-3\n"
      ],
      "metadata": {
        "id": "wYSIXF0PZtQ1"
      }
    },
    {
      "cell_type": "code",
      "source": [
        "arr1 = np.array([0, 1 ,2, 3, 4, 5, 6, 7, 8, 9])\n",
        "for x in arr1:\n",
        "  if(x%2!=0):\n",
        "    print(x)\n"
      ],
      "metadata": {
        "colab": {
          "base_uri": "https://localhost:8080/"
        },
        "id": "4c0JRrOiZux9",
        "outputId": "3920d8c1-fef1-4e87-d788-030d4c69809c"
      },
      "execution_count": 10,
      "outputs": [
        {
          "output_type": "stream",
          "name": "stdout",
          "text": [
            "1\n",
            "3\n",
            "5\n",
            "7\n",
            "9\n"
          ]
        }
      ]
    },
    {
      "cell_type": "markdown",
      "source": [
        "Task-4\n"
      ],
      "metadata": {
        "id": "aPHtD2cTalvr"
      }
    },
    {
      "cell_type": "code",
      "source": [
        "arr1 = np.array([0, 1 ,2, 3, 4, 5, 6, 7, 8, 9])\n",
        "for x in range(0, len(arr1)):\n",
        "  if(arr1[x]%2!=0):\n",
        "    arr1[x] = -1\n",
        "print(arr1)"
      ],
      "metadata": {
        "colab": {
          "base_uri": "https://localhost:8080/"
        },
        "id": "Vc3OGUeIandz",
        "outputId": "e09a8163-900a-4248-c96d-49bd4877bb29"
      },
      "execution_count": 14,
      "outputs": [
        {
          "output_type": "stream",
          "name": "stdout",
          "text": [
            "[ 0 -1  2 -1  4 -1  6 -1  8 -1]\n"
          ]
        }
      ]
    },
    {
      "cell_type": "markdown",
      "source": [
        "Task-5"
      ],
      "metadata": {
        "id": "YOrkdfyddnXV"
      }
    },
    {
      "cell_type": "code",
      "source": [
        "arr = np.array([0, 1 ,2, 3, 4, 5, 6, 7, 8, 9])\n",
        "odd = np.zeros(10, dtype=np.int32)\n",
        "for x in range(0, len(arr1)):\n",
        "  odd[x] = arr[x]\n",
        "  if(arr[x]%2!=0):\n",
        "    odd[x] = -1\n",
        "print(odd)"
      ],
      "metadata": {
        "colab": {
          "base_uri": "https://localhost:8080/"
        },
        "id": "_2Rzv_UPdLX6",
        "outputId": "6a7ca89d-7c8f-4408-a055-acc8c1177479"
      },
      "execution_count": 33,
      "outputs": [
        {
          "output_type": "stream",
          "name": "stdout",
          "text": [
            "[ 0 -1  2 -1  4 -1  6 -1  8 -1]\n"
          ]
        }
      ]
    },
    {
      "cell_type": "markdown",
      "source": [
        "Task-6"
      ],
      "metadata": {
        "id": "AtSRMc4Te6AE"
      }
    },
    {
      "cell_type": "code",
      "source": [
        "a = np.array([1,2,3,2,3,4,3,4,5,6])\n",
        "b = np.array([7,2,10,2,7,4,9,4,9,8])\n",
        "\n",
        "for i in range(len(a)):\n",
        "  if(a[i]==b[i]):\n",
        "    print(\"In position\",i,\"no index the two array matches.\")"
      ],
      "metadata": {
        "colab": {
          "base_uri": "https://localhost:8080/"
        },
        "id": "1_G8uMr2e8CT",
        "outputId": "2a6d7a39-dabe-43e4-cec2-eaf30f619452"
      },
      "execution_count": 35,
      "outputs": [
        {
          "output_type": "stream",
          "name": "stdout",
          "text": [
            "In position 1 no index the two array matches.\n",
            "In position 3 no index the two array matches.\n",
            "In position 5 no index the two array matches.\n",
            "In position 7 no index the two array matches.\n"
          ]
        }
      ]
    },
    {
      "cell_type": "markdown",
      "source": [
        "Task-7"
      ],
      "metadata": {
        "id": "XBYnrBZRgT1E"
      }
    },
    {
      "cell_type": "code",
      "source": [
        "a = np.array([2, 6, 1, 9, 10, 3, 27])\n",
        "for i in range(len(a)):\n",
        "  if a[i]>=5 and a[i]<=10:\n",
        "    print(a[i])"
      ],
      "metadata": {
        "colab": {
          "base_uri": "https://localhost:8080/"
        },
        "id": "rBdFg3OngSsq",
        "outputId": "0c2a3f97-f833-41ba-b89e-f654f1246336"
      },
      "execution_count": 36,
      "outputs": [
        {
          "output_type": "stream",
          "name": "stdout",
          "text": [
            "6\n",
            "9\n",
            "10\n"
          ]
        }
      ]
    },
    {
      "cell_type": "markdown",
      "source": [
        "Task-8"
      ],
      "metadata": {
        "id": "ApAi1_WzhEw0"
      }
    },
    {
      "cell_type": "code",
      "source": [
        "vector1 = np.zeros(10)\n",
        "vector2 = np.ones(10)\n",
        "print(vector2)"
      ],
      "metadata": {
        "colab": {
          "base_uri": "https://localhost:8080/"
        },
        "id": "PzMT1ICzhD6J",
        "outputId": "02a4127d-ccc0-4048-db53-a1e930ca19a0"
      },
      "execution_count": 38,
      "outputs": [
        {
          "output_type": "stream",
          "name": "stdout",
          "text": [
            "[1. 1. 1. 1. 1. 1. 1. 1. 1. 1.]\n"
          ]
        }
      ]
    },
    {
      "cell_type": "code",
      "source": [
        "ans1 = np.concatenate((vector1, vector2), axis=0)\n",
        "print(ans1)"
      ],
      "metadata": {
        "colab": {
          "base_uri": "https://localhost:8080/"
        },
        "id": "LfGXPuBnh7dH",
        "outputId": "8d11207e-81d0-4e1e-8701-5a91a87a0259"
      },
      "execution_count": 40,
      "outputs": [
        {
          "output_type": "stream",
          "name": "stdout",
          "text": [
            "[0. 0. 0. 0. 0. 0. 0. 0. 0. 0. 1. 1. 1. 1. 1. 1. 1. 1. 1. 1.]\n"
          ]
        }
      ]
    },
    {
      "cell_type": "code",
      "source": [
        "hor = np.array([vector1, vector2])\n",
        "print(hor)"
      ],
      "metadata": {
        "colab": {
          "base_uri": "https://localhost:8080/"
        },
        "id": "vs-W-PsliUDB",
        "outputId": "4c7d834c-e2d3-4a8c-c349-d98140e0f74c"
      },
      "execution_count": 57,
      "outputs": [
        {
          "output_type": "stream",
          "name": "stdout",
          "text": [
            "[[0. 0. 0. 0. 0. 0. 0. 0. 0. 0.]\n",
            " [1. 1. 1. 1. 1. 1. 1. 1. 1. 1.]]\n"
          ]
        }
      ]
    },
    {
      "cell_type": "markdown",
      "source": [
        "Task-9"
      ],
      "metadata": {
        "id": "MuhqqMAnjuoj"
      }
    },
    {
      "cell_type": "code",
      "source": [
        "m = np.random.randint(0, 10, size=(4, 4))\n",
        "print(m)"
      ],
      "metadata": {
        "colab": {
          "base_uri": "https://localhost:8080/"
        },
        "id": "AIN49dMTjwBp",
        "outputId": "5b899e95-7c3b-490f-aeb0-9a4b098cea68"
      },
      "execution_count": 59,
      "outputs": [
        {
          "output_type": "stream",
          "name": "stdout",
          "text": [
            "[[4 9 3 2]\n",
            " [1 5 8 9]\n",
            " [8 4 8 3]\n",
            " [4 4 3 6]]\n"
          ]
        }
      ]
    },
    {
      "cell_type": "markdown",
      "source": [
        "Task-10"
      ],
      "metadata": {
        "id": "lMDyH2KHk8EC"
      }
    },
    {
      "cell_type": "code",
      "source": [
        "n_samples = 5\n",
        "n_features = 4\n",
        "x = np.random.rand(n_samples, n_features)\n",
        "y = np.random.randint(0, 2, n_samples)\n",
        "print(\"x =\", x)\n",
        "print(\"y =\", y)"
      ],
      "metadata": {
        "colab": {
          "base_uri": "https://localhost:8080/"
        },
        "id": "vyrIS2fAk9Yq",
        "outputId": "d1d30576-709b-480d-a9e2-7faafcf9be88"
      },
      "execution_count": 60,
      "outputs": [
        {
          "output_type": "stream",
          "name": "stdout",
          "text": [
            "x = [[0.2968117  0.78272189 0.21352283 0.1328331 ]\n",
            " [0.72382484 0.03517983 0.22807551 0.82518872]\n",
            " [0.89698925 0.32876493 0.92352704 0.78272211]\n",
            " [0.36885567 0.27928923 0.46263733 0.74722031]\n",
            " [0.15559081 0.92690432 0.89915662 0.78892117]]\n",
            "y = [1 1 1 0 1]\n"
          ]
        }
      ]
    },
    {
      "cell_type": "markdown",
      "source": [
        "Task-11"
      ],
      "metadata": {
        "id": "7mic-XR5mIc_"
      }
    },
    {
      "cell_type": "code",
      "source": [
        "def extract_subset(x,y,y0):\n",
        "  x2 = x[y==y0, :]\n",
        "  return x2\n",
        "\n",
        "ans = extract_subset(x,y,1)\n",
        "print(ans)"
      ],
      "metadata": {
        "colab": {
          "base_uri": "https://localhost:8080/"
        },
        "id": "B-yuuPV7mJtw",
        "outputId": "91e036da-172d-4afe-c75b-b447bed13baf"
      },
      "execution_count": 65,
      "outputs": [
        {
          "output_type": "stream",
          "name": "stdout",
          "text": [
            "[[0.2968117  0.78272189 0.21352283 0.1328331 ]\n",
            " [0.72382484 0.03517983 0.22807551 0.82518872]\n",
            " [0.89698925 0.32876493 0.92352704 0.78272211]\n",
            " [0.15559081 0.92690432 0.89915662 0.78892117]]\n"
          ]
        }
      ]
    },
    {
      "cell_type": "markdown",
      "source": [
        "Task-12"
      ],
      "metadata": {
        "id": "sZNyKZf3oo0W"
      }
    },
    {
      "cell_type": "code",
      "source": [
        "import csv\n",
        "with open('/content/sample_data/iris.csv', 'r') as file:\n",
        "    reader = csv.reader(file)\n",
        "    for row in reader:\n",
        "        print(row)"
      ],
      "metadata": {
        "colab": {
          "base_uri": "https://localhost:8080/"
        },
        "id": "26KlX3swoqmd",
        "outputId": "0dec986a-7e12-4089-cd3f-06df6ca487ea"
      },
      "execution_count": 79,
      "outputs": [
        {
          "output_type": "stream",
          "name": "stdout",
          "text": [
            "['sepal_length', 'sepal_width', 'petal_length', 'petal_width', 'species']\n",
            "['5.1', '3.5', '1.4', '0.2', 'setosa']\n",
            "['4.9', '3', '1.4', '0.2', 'setosa']\n",
            "['4.7', '3.2', '1.3', '0.2', 'setosa']\n",
            "['4.6', '3.1', '1.5', '0.2', 'setosa']\n",
            "['5', '3.6', '1.4', '0.2', 'setosa']\n",
            "['5.4', '3.9', '1.7', '0.4', 'setosa']\n",
            "['4.6', '3.4', '1.4', '0.3', 'setosa']\n",
            "['5', '3.4', '1.5', '0.2', 'setosa']\n",
            "['4.4', '2.9', '1.4', '0.2', 'setosa']\n",
            "['4.9', '3.1', '1.5', '0.1', 'setosa']\n",
            "['5.4', '3.7', '1.5', '0.2', 'setosa']\n",
            "['4.8', '3.4', '1.6', '0.2', 'setosa']\n",
            "['4.8', '3', '1.4', '0.1', 'setosa']\n",
            "['4.3', '3', '1.1', '0.1', 'setosa']\n",
            "['5.8', '4', '1.2', '0.2', 'setosa']\n",
            "['5.7', '4.4', '1.5', '0.4', 'setosa']\n",
            "['5.4', '3.9', '1.3', '0.4', 'setosa']\n",
            "['5.1', '3.5', '1.4', '0.3', 'setosa']\n",
            "['5.7', '3.8', '1.7', '0.3', 'setosa']\n",
            "['5.1', '3.8', '1.5', '0.3', 'setosa']\n",
            "['5.4', '3.4', '1.7', '0.2', 'setosa']\n",
            "['5.1', '3.7', '1.5', '0.4', 'setosa']\n",
            "['4.6', '3.6', '1', '0.2', 'setosa']\n",
            "['5.1', '3.3', '1.7', '0.5', 'setosa']\n",
            "['4.8', '3.4', '1.9', '0.2', 'setosa']\n",
            "['5', '3', '1.6', '0.2', 'setosa']\n",
            "['5', '3.4', '1.6', '0.4', 'setosa']\n",
            "['5.2', '3.5', '1.5', '0.2', 'setosa']\n",
            "['5.2', '3.4', '1.4', '0.2', 'setosa']\n",
            "['4.7', '3.2', '1.6', '0.2', 'setosa']\n",
            "['4.8', '3.1', '1.6', '0.2', 'setosa']\n",
            "['5.4', '3.4', '1.5', '0.4', 'setosa']\n",
            "['5.2', '4.1', '1.5', '0.1', 'setosa']\n",
            "['5.5', '4.2', '1.4', '0.2', 'setosa']\n",
            "['4.9', '3.1', '1.5', '0.1', 'setosa']\n",
            "['5', '3.2', '1.2', '0.2', 'setosa']\n",
            "['5.5', '3.5', '1.3', '0.2', 'setosa']\n",
            "['4.9', '3.1', '1.5', '0.1', 'setosa']\n",
            "['4.4', '3', '1.3', '0.2', 'setosa']\n",
            "['5.1', '3.4', '1.5', '0.2', 'setosa']\n",
            "['5', '3.5', '1.3', '0.3', 'setosa']\n",
            "['4.5', '2.3', '1.3', '0.3', 'setosa']\n",
            "['4.4', '3.2', '1.3', '0.2', 'setosa']\n",
            "['5', '3.5', '1.6', '0.6', 'setosa']\n",
            "['5.1', '3.8', '1.9', '0.4', 'setosa']\n",
            "['4.8', '3', '1.4', '0.3', 'setosa']\n",
            "['5.1', '3.8', '1.6', '0.2', 'setosa']\n",
            "['4.6', '3.2', '1.4', '0.2', 'setosa']\n",
            "['5.3', '3.7', '1.5', '0.2', 'setosa']\n",
            "['5', '3.3', '1.4', '0.2', 'setosa']\n",
            "['7', '3.2', '4.7', '1.4', 'versicolor']\n",
            "['6.4', '3.2', '4.5', '1.5', 'versicolor']\n",
            "['6.9', '3.1', '4.9', '1.5', 'versicolor']\n",
            "['5.5', '2.3', '4', '1.3', 'versicolor']\n",
            "['6.5', '2.8', '4.6', '1.5', 'versicolor']\n",
            "['5.7', '2.8', '4.5', '1.3', 'versicolor']\n",
            "['6.3', '3.3', '4.7', '1.6', 'versicolor']\n",
            "['4.9', '2.4', '3.3', '1', 'versicolor']\n",
            "['6.6', '2.9', '4.6', '1.3', 'versicolor']\n",
            "['5.2', '2.7', '3.9', '1.4', 'versicolor']\n",
            "['5', '2', '3.5', '1', 'versicolor']\n",
            "['5.9', '3', '4.2', '1.5', 'versicolor']\n",
            "['6', '2.2', '4', '1', 'versicolor']\n",
            "['6.1', '2.9', '4.7', '1.4', 'versicolor']\n",
            "['5.6', '2.9', '3.6', '1.3', 'versicolor']\n",
            "['6.7', '3.1', '4.4', '1.4', 'versicolor']\n",
            "['5.6', '3', '4.5', '1.5', 'versicolor']\n",
            "['5.8', '2.7', '4.1', '1', 'versicolor']\n",
            "['6.2', '2.2', '4.5', '1.5', 'versicolor']\n",
            "['5.6', '2.5', '3.9', '1.1', 'versicolor']\n",
            "['5.9', '3.2', '4.8', '1.8', 'versicolor']\n",
            "['6.1', '2.8', '4', '1.3', 'versicolor']\n",
            "['6.3', '2.5', '4.9', '1.5', 'versicolor']\n",
            "['6.1', '2.8', '4.7', '1.2', 'versicolor']\n",
            "['6.4', '2.9', '4.3', '1.3', 'versicolor']\n",
            "['6.6', '3', '4.4', '1.4', 'versicolor']\n",
            "['6.8', '2.8', '4.8', '1.4', 'versicolor']\n",
            "['6.7', '3', '5', '1.7', 'versicolor']\n",
            "['6', '2.9', '4.5', '1.5', 'versicolor']\n",
            "['5.7', '2.6', '3.5', '1', 'versicolor']\n",
            "['5.5', '2.4', '3.8', '1.1', 'versicolor']\n",
            "['5.5', '2.4', '3.7', '1', 'versicolor']\n",
            "['5.8', '2.7', '3.9', '1.2', 'versicolor']\n",
            "['6', '2.7', '5.1', '1.6', 'versicolor']\n",
            "['5.4', '3', '4.5', '1.5', 'versicolor']\n",
            "['6', '3.4', '4.5', '1.6', 'versicolor']\n",
            "['6.7', '3.1', '4.7', '1.5', 'versicolor']\n",
            "['6.3', '2.3', '4.4', '1.3', 'versicolor']\n",
            "['5.6', '3', '4.1', '1.3', 'versicolor']\n",
            "['5.5', '2.5', '4', '1.3', 'versicolor']\n",
            "['5.5', '2.6', '4.4', '1.2', 'versicolor']\n",
            "['6.1', '3', '4.6', '1.4', 'versicolor']\n",
            "['5.8', '2.6', '4', '1.2', 'versicolor']\n",
            "['5', '2.3', '3.3', '1', 'versicolor']\n",
            "['5.6', '2.7', '4.2', '1.3', 'versicolor']\n",
            "['5.7', '3', '4.2', '1.2', 'versicolor']\n",
            "['5.7', '2.9', '4.2', '1.3', 'versicolor']\n",
            "['6.2', '2.9', '4.3', '1.3', 'versicolor']\n",
            "['5.1', '2.5', '3', '1.1', 'versicolor']\n",
            "['5.7', '2.8', '4.1', '1.3', 'versicolor']\n",
            "['6.3', '3.3', '6', '2.5', 'virginica']\n",
            "['5.8', '2.7', '5.1', '1.9', 'virginica']\n",
            "['7.1', '3', '5.9', '2.1', 'virginica']\n",
            "['6.3', '2.9', '5.6', '1.8', 'virginica']\n",
            "['6.5', '3', '5.8', '2.2', 'virginica']\n",
            "['7.6', '3', '6.6', '2.1', 'virginica']\n",
            "['4.9', '2.5', '4.5', '1.7', 'virginica']\n",
            "['7.3', '2.9', '6.3', '1.8', 'virginica']\n",
            "['6.7', '2.5', '5.8', '1.8', 'virginica']\n",
            "['7.2', '3.6', '6.1', '2.5', 'virginica']\n",
            "['6.5', '3.2', '5.1', '2', 'virginica']\n",
            "['6.4', '2.7', '5.3', '1.9', 'virginica']\n",
            "['6.8', '3', '5.5', '2.1', 'virginica']\n",
            "['5.7', '2.5', '5', '2', 'virginica']\n",
            "['5.8', '2.8', '5.1', '2.4', 'virginica']\n",
            "['6.4', '3.2', '5.3', '2.3', 'virginica']\n",
            "['6.5', '3', '5.5', '1.8', 'virginica']\n",
            "['7.7', '3.8', '6.7', '2.2', 'virginica']\n",
            "['7.7', '2.6', '6.9', '2.3', 'virginica']\n",
            "['6', '2.2', '5', '1.5', 'virginica']\n",
            "['6.9', '3.2', '5.7', '2.3', 'virginica']\n",
            "['5.6', '2.8', '4.9', '2', 'virginica']\n",
            "['7.7', '2.8', '6.7', '2', 'virginica']\n",
            "['6.3', '2.7', '4.9', '1.8', 'virginica']\n",
            "['6.7', '3.3', '5.7', '2.1', 'virginica']\n",
            "['7.2', '3.2', '6', '1.8', 'virginica']\n",
            "['6.2', '2.8', '4.8', '1.8', 'virginica']\n",
            "['6.1', '3', '4.9', '1.8', 'virginica']\n",
            "['6.4', '2.8', '5.6', '2.1', 'virginica']\n",
            "['7.2', '3', '5.8', '1.6', 'virginica']\n",
            "['7.4', '2.8', '6.1', '1.9', 'virginica']\n",
            "['7.9', '3.8', '6.4', '2', 'virginica']\n",
            "['6.4', '2.8', '5.6', '2.2', 'virginica']\n",
            "['6.3', '2.8', '5.1', '1.5', 'virginica']\n",
            "['6.1', '2.6', '5.6', '1.4', 'virginica']\n",
            "['7.7', '3', '6.1', '2.3', 'virginica']\n",
            "['6.3', '3.4', '5.6', '2.4', 'virginica']\n",
            "['6.4', '3.1', '5.5', '1.8', 'virginica']\n",
            "['6', '3', '4.8', '1.8', 'virginica']\n",
            "['6.9', '3.1', '5.4', '2.1', 'virginica']\n",
            "['6.7', '3.1', '5.6', '2.4', 'virginica']\n",
            "['6.9', '3.1', '5.1', '2.3', 'virginica']\n",
            "['5.8', '2.7', '5.1', '1.9', 'virginica']\n",
            "['6.8', '3.2', '5.9', '2.3', 'virginica']\n",
            "['6.7', '3.3', '5.7', '2.5', 'virginica']\n",
            "['6.7', '3', '5.2', '2.3', 'virginica']\n",
            "['6.3', '2.5', '5', '1.9', 'virginica']\n",
            "['6.5', '3', '5.2', '2', 'virginica']\n",
            "['6.2', '3.4', '5.4', '2.3', 'virginica']\n",
            "['5.9', '3', '5.1', '1.8', 'virginica']\n"
          ]
        }
      ]
    },
    {
      "cell_type": "markdown",
      "source": [
        "Task-13"
      ],
      "metadata": {
        "id": "_XnFrecJrcMi"
      }
    },
    {
      "cell_type": "code",
      "source": [
        "import statistics\n",
        "with open('/content/sample_data/iris.csv', 'r') as file:\n",
        "    reader = csv.reader(file)\n",
        "    ans = []\n",
        "    sum =0\n",
        "    for rows in reader:\n",
        "          ans.append(rows[0])\n",
        "    p = []\n",
        "    for i in range(1, len(ans)):\n",
        "        p.append(int(i))\n",
        "    print(\"Median : \",statistics.median(p))\n",
        "    print(\"Mean : \",statistics.mean(p))\n",
        "    print(\"Standard Dev : \",np.std(p))"
      ],
      "metadata": {
        "colab": {
          "base_uri": "https://localhost:8080/"
        },
        "id": "5I0PITPHrdnn",
        "outputId": "4eeb674f-7d55-4285-ae8d-8ef635136dbf"
      },
      "execution_count": 122,
      "outputs": [
        {
          "output_type": "stream",
          "name": "stdout",
          "text": [
            "Median :  75.5\n",
            "Mean :  75.5\n",
            "Standard Dev :  43.300307928081374\n"
          ]
        }
      ]
    }
  ]
}