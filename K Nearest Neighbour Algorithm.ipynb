{
  "nbformat": 4,
  "nbformat_minor": 0,
  "metadata": {
    "colab": {
      "provenance": [],
      "collapsed_sections": []
    },
    "kernelspec": {
      "name": "python3",
      "display_name": "Python 3"
    },
    "accelerator": "GPU"
  },
  "cells": [
    {
      "cell_type": "code",
      "metadata": {
        "id": "E_JD8mqHPI7b"
      },
      "source": [
        "from sklearn.model_selection import train_test_split\n",
        "import pandas as pd\n",
        "import matplotlib.pyplot as plt\n",
        "from sklearn.neighbors import KNeighborsClassifier\n",
        "import  numpy as np"
      ],
      "execution_count": null,
      "outputs": []
    },
    {
      "cell_type": "markdown",
      "metadata": {
        "id": "0L_YpyY4XPAC"
      },
      "source": [
        "# Starting Machine Learning / Deep Learning!!\n"
      ]
    },
    {
      "cell_type": "code",
      "metadata": {
        "id": "fq60cpbOVox8",
        "outputId": "aa7ce4f1-0cb9-4c6d-bf0e-c20008d03658",
        "colab": {
          "base_uri": "https://localhost:8080/"
        }
      },
      "source": [
        "print('Booting into Machine Learning....')"
      ],
      "execution_count": null,
      "outputs": [
        {
          "output_type": "stream",
          "name": "stdout",
          "text": [
            "Booting into Machine Learning....\n"
          ]
        }
      ]
    },
    {
      "cell_type": "code",
      "metadata": {
        "id": "PYGdBg4LPRdN",
        "outputId": "a2c4e5e3-9c29-4d77-d5b6-ac83ef5413bf",
        "colab": {
          "base_uri": "https://localhost:8080/"
        }
      },
      "source": [
        "from google.colab import drive\n",
        "drive.mount('/content/drive')\n"
      ],
      "execution_count": null,
      "outputs": [
        {
          "output_type": "stream",
          "name": "stdout",
          "text": [
            "Mounted at /content/drive\n"
          ]
        }
      ]
    },
    {
      "cell_type": "markdown",
      "source": [
        "Task-1"
      ],
      "metadata": {
        "id": "P9imYytoer4B"
      }
    },
    {
      "cell_type": "code",
      "metadata": {
        "id": "z0OFqg2fPeMq",
        "colab": {
          "base_uri": "https://localhost:8080/"
        },
        "outputId": "bee4b751-ebab-4233-c3f5-2caa83504f68"
      },
      "source": [
        "import pandas as pd\n",
        "file = r'/content/House_Area_Data.xlsx'\n",
        "df = pd.read_excel(file)\n",
        "print(df)\n"
      ],
      "execution_count": null,
      "outputs": [
        {
          "output_type": "stream",
          "name": "stdout",
          "text": [
            "    Area   Price  Sold\n",
            "0    300   81374     1\n",
            "1    300   90000     1\n",
            "2    300   96089     1\n",
            "3    300   98089     1\n",
            "4    300  105000     0\n",
            "5    300  110000     0\n",
            "6    300  118000     0\n",
            "7    300  120000     0\n",
            "8    300  130000     0\n",
            "9    300  140000     0\n",
            "10   400   81374     1\n",
            "11   400   90000     1\n",
            "12   400   98089     1\n",
            "13   400  105000     1\n",
            "14   400  118000     1\n",
            "15   400  120000     0\n",
            "16   400  130000     0\n",
            "17   400  140000     0\n",
            "18   450   83300     1\n",
            "19   450  140200     1\n",
            "20   450  151349     1\n",
            "21   450  191399     0\n",
            "22   450  201349     0\n",
            "23   500  101324     1\n",
            "24   500  104324     1\n",
            "25   500  111324     1\n",
            "26   500  131324     1\n",
            "27   500  151324     1\n",
            "28   500  180000     0\n",
            "29   500  191324     0\n",
            "30   500  211324     0\n",
            "31   550  140500     1\n",
            "32   550  165002     1\n",
            "33   550  175103     1\n",
            "34   550  191431     1\n",
            "35   550  210131     0\n",
            "36   550  230131     0\n",
            "37   550  221299     0\n",
            "38   550  241299     0\n",
            "39   600  210000     1\n",
            "40   600  220040     1\n",
            "41   600  228999     1\n",
            "42   600  241219     1\n",
            "43   600  252101     0\n",
            "44   600  251211     0\n",
            "45   600  260081     0\n",
            "46   600  365211     0\n",
            "47   600  271211     0\n",
            "48   600  280081     0\n",
            "49   600  301211     0\n"
          ]
        }
      ]
    },
    {
      "cell_type": "markdown",
      "source": [],
      "metadata": {
        "id": "1Ffca_Q8euEV"
      }
    },
    {
      "cell_type": "code",
      "metadata": {
        "id": "7nQqg0ZuVC-r",
        "colab": {
          "base_uri": "https://localhost:8080/",
          "height": 282
        },
        "outputId": "b3eca240-68d0-4caa-b1d9-34724cb1fa1e"
      },
      "source": [
        "import matplotlib.pyplot as plt\n",
        "# K-Nearest Neighbors (K-NN)\n",
        "X = df[\"Area\"] \n",
        "Y = df[\"Price\"]\n",
        "z = df[\"Sold\"]\n",
        "color = []\n",
        "for i in z:\n",
        "  if i==0:\n",
        "    color.append(\"blue\")\n",
        "  else :\n",
        "    color.append(\"red\")\n",
        "\n",
        "plt.scatter(X, Y, color =color)\n",
        "plt.plot()\n",
        "\n",
        "# print(X)\n",
        "# print(Y)"
      ],
      "execution_count": 47,
      "outputs": [
        {
          "output_type": "execute_result",
          "data": {
            "text/plain": [
              "[]"
            ]
          },
          "metadata": {},
          "execution_count": 47
        },
        {
          "output_type": "display_data",
          "data": {
            "text/plain": [
              "<Figure size 432x288 with 1 Axes>"
            ],
            "image/png": "[encoded data removed]"
          },
          "metadata": {
            "needs_background": "light"
          }
        }
      ]
    },
    {
      "cell_type": "markdown",
      "source": [
        "Task-3"
      ],
      "metadata": {
        "id": "fk8Dq_2Ehu5P"
      }
    },
    {
      "cell_type": "code",
      "source": [
        "print(\"Area Median :\",X.median())\n",
        "print(\"Area Mean :\",X.mean())\n",
        "print(\"Area STD :\",X.std())\n",
        "print(\"Area Mean :\",X.var())\n",
        "\n",
        "print(\"\\nPrice Median :\",Y.median())\n",
        "print(\"Price Mean :\",Y.mean())\n",
        "print(\"Prnce STD :\",Y.std())\n",
        "print(\"Price Mean :\",Y.var())"
      ],
      "metadata": {
        "colab": {
          "base_uri": "https://localhost:8080/"
        },
        "id": "3vrdVRHahwo_",
        "outputId": "5c583b9f-c74c-44da-8ba0-f514c59d047c"
      },
      "execution_count": null,
      "outputs": [
        {
          "output_type": "stream",
          "name": "stdout",
          "text": [
            "Area Median : 500.0\n",
            "Area Mean : 469.0\n",
            "Area STD : 108.27497119720283\n",
            "Area Mean : 11723.469387755102\n",
            "\n",
            "Price Median : 145912.0\n",
            "Price Mean : 167542.82\n",
            "Prnce STD : 67666.35569203064\n",
            "Price Mean : 4578735692.6404085\n"
          ]
        }
      ]
    },
    {
      "cell_type": "markdown",
      "source": [
        "Task-4"
      ],
      "metadata": {
        "id": "iChL0KEFjB8C"
      }
    },
    {
      "cell_type": "code",
      "source": [
        "from sklearn import preprocessing\n",
        "normalized_X = preprocessing.normalize([X])\n",
        "normalized_Y = preprocessing.normalize([Y])\n",
        "normalized_X\n",
        "normalized_Y"
      ],
      "metadata": {
        "colab": {
          "base_uri": "https://localhost:8080/"
        },
        "id": "Jji0qqjSjEco",
        "outputId": "01f75ffc-7e5b-4731-f7a5-8d6d143d515c"
      },
      "execution_count": null,
      "outputs": [
        {
          "output_type": "execute_result",
          "data": {
            "text/plain": [
              "array([[0.06377837, 0.07053916, 0.07531152, 0.07687906, 0.08229568,\n",
              "        0.08621453, 0.09248467, 0.09405221, 0.10188989, 0.10972758,\n",
              "        0.06377837, 0.07053916, 0.07687906, 0.08229568, 0.09248467,\n",
              "        0.09405221, 0.10188989, 0.10972758, 0.06528791, 0.10988433,\n",
              "        0.11862257, 0.15001249, 0.15781099, 0.07941455, 0.08176586,\n",
              "        0.08725223, 0.1029276 , 0.11860297, 0.14107831, 0.14995371,\n",
              "        0.16562908, 0.11011946, 0.12932336, 0.1372402 , 0.15003757,\n",
              "        0.16469404, 0.18036941, 0.17344717, 0.18912253, 0.16459137,\n",
              "        0.1724604 , 0.17948218, 0.18905983, 0.1975888 , 0.19689125,\n",
              "        0.20384327, 0.28624085, 0.21256661, 0.21951864, 0.23607967]])"
            ]
          },
          "metadata": {},
          "execution_count": 30
        }
      ]
    },
    {
      "cell_type": "markdown",
      "source": [
        "Task-5"
      ],
      "metadata": {
        "id": "7Kuk8UMYi97w"
      }
    },
    {
      "cell_type": "code",
      "metadata": {
        "id": "ynBE3SF2VDBc",
        "colab": {
          "base_uri": "https://localhost:8080/"
        },
        "outputId": "bab917bb-a1f5-4d11-a34f-267a26c354fa"
      },
      "source": [
        "# Splitting the dataset into the Training set and Test set\n",
        "X_train, X_test, y_train, y_test = train_test_split(X, Y, test_size=0.20)\n",
        "\n",
        "print(X_train)"
      ],
      "execution_count": 51,
      "outputs": [
        {
          "output_type": "stream",
          "name": "stdout",
          "text": [
            "[[   550 140500]\n",
            " [   450 151349]\n",
            " [   600 241219]\n",
            " [   300 110000]\n",
            " [   300 105000]\n",
            " [   450 201349]\n",
            " [   500 180000]\n",
            " [   500 151324]\n",
            " [   450  83300]\n",
            " [   500 101324]\n",
            " [   600 260081]\n",
            " [   600 210000]\n",
            " [   500 131324]\n",
            " [   300  90000]\n",
            " [   600 252101]\n",
            " [   450 191399]\n",
            " [   550 230131]\n",
            " [   400 118000]\n",
            " [   300 140000]\n",
            " [   300 118000]\n",
            " [   500 191324]\n",
            " [   300  81374]\n",
            " [   550 191431]\n",
            " [   600 271211]\n",
            " [   300  96089]\n",
            " [   500 111324]\n",
            " [   600 228999]\n",
            " [   400  98089]\n",
            " [   550 210131]\n",
            " [   450 140200]\n",
            " [   500 211324]\n",
            " [   400 120000]\n",
            " [   550 221299]\n",
            " [   300 120000]\n",
            " [   600 301211]\n",
            " [   600 220040]\n",
            " [   550 241299]\n",
            " [   400  90000]\n",
            " [   600 280081]\n",
            " [   600 365211]]\n"
          ]
        }
      ]
    },
    {
      "cell_type": "markdown",
      "source": [
        "Task-6"
      ],
      "metadata": {
        "id": "kTbWSl8ov2rj"
      }
    },
    {
      "cell_type": "code",
      "source": [
        "from sklearn.neighbors import KNeighborsClassifier\n",
        "def get_score( X_train, X_test, y_train, y_test):\n",
        "  temp = y_train\n",
        "  for i in range(0,5):\n",
        "    X_train, X_test, y_train, y_test = train_test_split(X_train, y_train, test_size=0.10)\n",
        "    knn = KNeighborsClassifier(n_neighbors = 5)\n",
        "    knn.fit(X_train, y_train)\n",
        "    Prediction_y = knn.predict(X_test)\n",
        "    print(Prediction_y)\n",
        "  cnt = 0\n",
        "  for i in range(0, min(len(temp), len(Prediction_y))):\n",
        "    print(temp[i],\" \",Prediction_y[i])\n",
        "    if Prediction_y[i]==temp[i]:\n",
        "      cnt = cnt + 1;\n",
        "  print(\"Accuracy : \",cnt/len(Prediction_y))\n",
        "get_score(X_train, X_test, y_train, y_test)\n",
        "  "
      ],
      "metadata": {
        "colab": {
          "base_uri": "https://localhost:8080/"
        },
        "id": "t909XYyjv4gN",
        "outputId": "c95bdc8b-1c0c-4723-f4dd-fb34f64f947a"
      },
      "execution_count": 80,
      "outputs": [
        {
          "output_type": "stream",
          "name": "stdout",
          "text": [
            "[0 1 1 0]\n",
            "[1 0 0 0]\n",
            "[0 1 1 0]\n",
            "[1 1 0]\n",
            "[1 1 1]\n",
            "1   1\n",
            "0   1\n",
            "0   1\n",
            "Accuracy :  0.3333333333333333\n"
          ]
        }
      ]
    },
    {
      "cell_type": "markdown",
      "source": [
        "Task-7"
      ],
      "metadata": {
        "id": "ppiHz11ykOKL"
      }
    },
    {
      "cell_type": "code",
      "source": [
        "from sklearn.neighbors import KNeighborsClassifier\n",
        "X = df.iloc[:,:-1].values\n",
        "Y = df.iloc[:,2].values\n",
        "X_train, X_test, y_train, y_test = train_test_split(X, Y, test_size=0.20)\n",
        "knn = KNeighborsClassifier(n_neighbors = 5)\n",
        "knn.fit(X_train, y_train)\n",
        "Prediction_y = knn.predict(X_test)\n",
        "Prediction_y"
      ],
      "metadata": {
        "id": "wlI_tw8bkQ6e",
        "colab": {
          "base_uri": "https://localhost:8080/"
        },
        "outputId": "9bfd99fa-e799-48eb-9e92-15b539c33599"
      },
      "execution_count": 68,
      "outputs": [
        {
          "output_type": "execute_result",
          "data": {
            "text/plain": [
              "array([1, 0, 0, 0, 1, 1, 1, 0, 1, 1])"
            ]
          },
          "metadata": {},
          "execution_count": 68
        }
      ]
    },
    {
      "cell_type": "markdown",
      "source": [
        "Task-8"
      ],
      "metadata": {
        "id": "UOKUt2qLq-lp"
      }
    },
    {
      "cell_type": "code",
      "source": [
        "from sklearn.metrics import classification_report\n",
        "y_true = [0, 1, 2, 2, 2]\n",
        "y_pred = [0, 0, 2, 2, 1]\n",
        "target_names = ['class 0', 'class 1']\n",
        "print(classification_report(y_test, Prediction_y, target_names=target_names))\n"
      ],
      "metadata": {
        "colab": {
          "base_uri": "https://localhost:8080/"
        },
        "id": "2npLDVAQrBo7",
        "outputId": "74956f84-38e3-4f30-ddac-95bdfe565629"
      },
      "execution_count": 64,
      "outputs": [
        {
          "output_type": "stream",
          "name": "stdout",
          "text": [
            "              precision    recall  f1-score   support\n",
            "\n",
            "     class 0       0.62      1.00      0.77         5\n",
            "     class 1       1.00      0.40      0.57         5\n",
            "\n",
            "    accuracy                           0.70        10\n",
            "   macro avg       0.81      0.70      0.67        10\n",
            "weighted avg       0.81      0.70      0.67        10\n",
            "\n"
          ]
        }
      ]
    },
    {
      "cell_type": "markdown",
      "source": [
        "Confusion Matrix"
      ],
      "metadata": {
        "id": "0MuuNatPsRao"
      }
    },
    {
      "cell_type": "code",
      "source": [
        "from sklearn import metrics\n",
        "confusion_matrix = metrics.confusion_matrix(y_test, Prediction_y)\n",
        "cm_display = metrics.ConfusionMatrixDisplay(confusion_matrix = confusion_matrix, display_labels = [False, True])\n",
        "\n",
        "cm_display.plot()\n",
        "plt.show()"
      ],
      "metadata": {
        "colab": {
          "base_uri": "https://localhost:8080/",
          "height": 283
        },
        "id": "CgeTnVG5sSxF",
        "outputId": "00758ec3-89ff-4d9a-8e0b-42c5a9826780"
      },
      "execution_count": 65,
      "outputs": [
        {
          "output_type": "display_data",
          "data": {
            "text/plain": [
              "<Figure size 432x288 with 2 Axes>"
            ],
            "image/png": "[encoded data removed]"
          },
          "metadata": {
            "needs_background": "light"
          }
        }
      ]
    },
    {
      "cell_type": "markdown",
      "source": [
        "Heatmap"
      ],
      "metadata": {
        "id": "EB_bwnSts8sI"
      }
    },
    {
      "cell_type": "code",
      "source": [
        "import seaborn as sns\n",
        "ax = sns.heatmap(confusion_matrix)"
      ],
      "metadata": {
        "colab": {
          "base_uri": "https://localhost:8080/",
          "height": 269
        },
        "id": "qGNoy75Zs95P",
        "outputId": "c6761214-b568-44a4-b34f-1e40744c2214"
      },
      "execution_count": 66,
      "outputs": [
        {
          "output_type": "display_data",
          "data": {
            "text/plain": [
              "<Figure size 432x288 with 2 Axes>"
            ],
            "image/png": "[encoded data removed]"
          },
          "metadata": {
            "needs_background": "light"
          }
        }
      ]
    },
    {
      "cell_type": "markdown",
      "source": [
        "Task-6"
      ],
      "metadata": {
        "id": "a36BXeYWu6Oi"
      }
    },
    {
      "cell_type": "code",
      "source": [],
      "metadata": {
        "id": "8LRV-SCpu8P6"
      },
      "execution_count": null,
      "outputs": []
    },
    {
      "cell_type": "code",
      "metadata": {
        "id": "gIVd0u3YVDEJ"
      },
      "source": [
        "# Feature Scaling\n",
        "from sklearn.preprocessing import StandardScaler\n",
        "sc = StandardScaler()\n",
        "X_train = \n",
        "X_test = \n",
        "\n",
        "print(X_train)"
      ],
      "execution_count": null,
      "outputs": []
    },
    {
      "cell_type": "markdown",
      "metadata": {
        "id": "H0wq-mqyP_u-"
      },
      "source": [
        " **Function for Score**"
      ]
    },
    {
      "cell_type": "code",
      "metadata": {
        "id": "QjQg6ax7PpZ0"
      },
      "source": [
        "def get_score(model, X_train, X_test, y_train, y_test):\n",
        "    "
      ],
      "execution_count": null,
      "outputs": []
    },
    {
      "cell_type": "markdown",
      "metadata": {
        "id": "n0Xzo5EbP5Z-"
      },
      "source": [
        "**k fold Cross Validation using digits dataset. Use the current dataset you are working with.**\n"
      ]
    },
    {
      "cell_type": "code",
      "metadata": {
        "id": "z-xIWx0kQKLq",
        "colab": {
          "base_uri": "https://localhost:8080/",
          "height": 232
        },
        "outputId": "e28902eb-1625-4b9f-f409-c0f1646e0be7"
      },
      "source": [
        "from sklearn.model_selection import StratifiedKFold\n",
        "folds = StratifiedKFold(n_splits=3)\n",
        "\n",
        "scores_logistic = []\n",
        "\n",
        "for train_index, test_index in folds.split(digits.data,digits.target):\n",
        "    X_train, X_test, y_train, y_test = digits.data[train_index], digits.data[test_index], \\\n",
        "                                       digits.target[train_index], digits.target[test_index]\n",
        "    scores_logistic.append(get_score(LogisticRegression(solver='liblinear',multi_class='ovr'), X_train, X_test, y_train, y_test))  \n",
        "    "
      ],
      "execution_count": 67,
      "outputs": [
        {
          "output_type": "error",
          "ename": "NameError",
          "evalue": "ignored",
          "traceback": [
            "\u001b[0;31m---------------------------------------------------------------------------\u001b[0m",
            "\u001b[0;31mNameError\u001b[0m                                 Traceback (most recent call last)",
            "\u001b[0;32m<ipython-input-67-7f19ca950107>\u001b[0m in \u001b[0;36m<module>\u001b[0;34m\u001b[0m\n\u001b[1;32m      4\u001b[0m \u001b[0mscores_logistic\u001b[0m \u001b[0;34m=\u001b[0m \u001b[0;34m[\u001b[0m\u001b[0;34m]\u001b[0m\u001b[0;34m\u001b[0m\u001b[0;34m\u001b[0m\u001b[0m\n\u001b[1;32m      5\u001b[0m \u001b[0;34m\u001b[0m\u001b[0m\n\u001b[0;32m----> 6\u001b[0;31m \u001b[0;32mfor\u001b[0m \u001b[0mtrain_index\u001b[0m\u001b[0;34m,\u001b[0m \u001b[0mtest_index\u001b[0m \u001b[0;32min\u001b[0m \u001b[0mfolds\u001b[0m\u001b[0;34m.\u001b[0m\u001b[0msplit\u001b[0m\u001b[0;34m(\u001b[0m\u001b[0mdigits\u001b[0m\u001b[0;34m.\u001b[0m\u001b[0mdata\u001b[0m\u001b[0;34m,\u001b[0m\u001b[0mdigits\u001b[0m\u001b[0;34m.\u001b[0m\u001b[0mtarget\u001b[0m\u001b[0;34m)\u001b[0m\u001b[0;34m:\u001b[0m\u001b[0;34m\u001b[0m\u001b[0;34m\u001b[0m\u001b[0m\n\u001b[0m\u001b[1;32m      7\u001b[0m     \u001b[0mX_train\u001b[0m\u001b[0;34m,\u001b[0m \u001b[0mX_test\u001b[0m\u001b[0;34m,\u001b[0m \u001b[0my_train\u001b[0m\u001b[0;34m,\u001b[0m \u001b[0my_test\u001b[0m \u001b[0;34m=\u001b[0m \u001b[0mdigits\u001b[0m\u001b[0;34m.\u001b[0m\u001b[0mdata\u001b[0m\u001b[0;34m[\u001b[0m\u001b[0mtrain_index\u001b[0m\u001b[0;34m]\u001b[0m\u001b[0;34m,\u001b[0m \u001b[0mdigits\u001b[0m\u001b[0;34m.\u001b[0m\u001b[0mdata\u001b[0m\u001b[0;34m[\u001b[0m\u001b[0mtest_index\u001b[0m\u001b[0;34m]\u001b[0m\u001b[0;34m,\u001b[0m\u001b[0;31m \u001b[0m\u001b[0;31m\\\u001b[0m\u001b[0;34m\u001b[0m\u001b[0;34m\u001b[0m\u001b[0m\n\u001b[1;32m      8\u001b[0m                                        \u001b[0mdigits\u001b[0m\u001b[0;34m.\u001b[0m\u001b[0mtarget\u001b[0m\u001b[0;34m[\u001b[0m\u001b[0mtrain_index\u001b[0m\u001b[0;34m]\u001b[0m\u001b[0;34m,\u001b[0m \u001b[0mdigits\u001b[0m\u001b[0;34m.\u001b[0m\u001b[0mtarget\u001b[0m\u001b[0;34m[\u001b[0m\u001b[0mtest_index\u001b[0m\u001b[0;34m]\u001b[0m\u001b[0;34m\u001b[0m\u001b[0;34m\u001b[0m\u001b[0m\n",
            "\u001b[0;31mNameError\u001b[0m: name 'digits' is not defined"
          ]
        }
      ]
    },
    {
      "cell_type": "code",
      "metadata": {
        "id": "QDQMYOaaVDKO"
      },
      "source": [
        "# Fitting K-NN to the Training set\n",
        "\n",
        "classifier = KNeighborsClassifier()\n",
        "classifier.fit()\n"
      ],
      "execution_count": null,
      "outputs": []
    },
    {
      "cell_type": "code",
      "metadata": {
        "id": "KuuRdK6BVDM9"
      },
      "source": [
        "# Predicting the Test set results\n",
        "y_pred = classifier.predict()\n",
        "print('y_pred',y_pred)\n",
        "print('y_test',y_test)"
      ],
      "execution_count": null,
      "outputs": []
    },
    {
      "cell_type": "code",
      "metadata": {
        "id": "VXrAvZVxVD4Z"
      },
      "source": [
        "#MODEL EVALUATION STEP\n",
        "# Making the Confusion Matrix\n",
        "from sklearn.metrics import confusion_matrix\n",
        "cm = \n",
        "print(cm)"
      ],
      "execution_count": null,
      "outputs": []
    },
    {
      "cell_type": "code",
      "metadata": {
        "id": "ieKJ39NXOM3S"
      },
      "source": [
        "import seaborn as sns\n",
        "import pandas as pd\n",
        "import matplotlib.pyplot as plt\n",
        "%matplotlib inline\n",
        "sns.set(font_scale=2)"
      ],
      "execution_count": null,
      "outputs": []
    },
    {
      "cell_type": "markdown",
      "metadata": {
        "id": "MJwRchm6O2iQ"
      },
      "source": [
        "**Implement the Confusion Matrix using your own modified Dataset** -->This is just a demo"
      ]
    },
    {
      "cell_type": "code",
      "metadata": {
        "id": "7uKnGfw5OkPg",
        "outputId": "332c0b50-fae9-49d2-f3fd-bcf7d7adf987",
        "colab": {
          "base_uri": "https://localhost:8080/",
          "height": 483
        }
      },
      "source": [
        " array = [[5,0,0,0],  # when input was A, prediction was all A\n",
        "         [0,10,0,0], # when input was B, prediction was all A\n",
        "         [0,0,15,0], # when input was C, prediction was all A\n",
        "         [0,0,0,5]]  # when input was D, prediction was all A\n",
        "df_cm = pd.DataFrame(array, index = [i for i in \"ABCD\"],\n",
        "                  columns = [i for i in \"ABCD\"])\n",
        "plt.figure(figsize = (10,7))\n",
        "plt.title('confusion matrix without confusion')\n",
        "sns.heatmap(df_cm, annot=True)"
      ],
      "execution_count": null,
      "outputs": [
        {
          "output_type": "execute_result",
          "data": {
            "text/plain": [
              "<matplotlib.axes._subplots.AxesSubplot at 0x7f89b3fd6cc0>"
            ]
          },
          "metadata": {
            "tags": []
          },
          "execution_count": 14
        },
        {
          "output_type": "display_data",
          "data": {
            "image/png": "[encoded data removed]",
            "text/plain": [
              "<Figure size 720x504 with 2 Axes>"
            ]
          },
          "metadata": {
            "tags": []
          }
        }
      ]
    }
  ]
}